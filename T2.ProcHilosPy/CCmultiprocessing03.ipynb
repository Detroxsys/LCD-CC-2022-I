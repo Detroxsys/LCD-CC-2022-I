{
  "nbformat": 4,
  "nbformat_minor": 0,
  "metadata": {
    "colab": {
      "name": "CCmultiprocessing03.ipynb",
      "provenance": []
    },
    "kernelspec": {
      "name": "python3",
      "display_name": "Python 3"
    },
    "language_info": {
      "name": "python"
    }
  },
  "cells": [
    {
      "cell_type": "code",
      "metadata": {
        "id": "U_yCO9RJOJxO"
      },
      "source": [
        "import multiprocessing"
      ],
      "execution_count": 1,
      "outputs": []
    },
    {
      "cell_type": "markdown",
      "metadata": {
        "id": "h71ozYALPY8W"
      },
      "source": [
        "##Contando \n",
        "Con el método cpu_count() se muestra el número de procesadores del sistema que se está utilizando."
      ]
    },
    {
      "cell_type": "code",
      "metadata": {
        "colab": {
          "base_uri": "https://localhost:8080/"
        },
        "id": "TvfnmV4MO8GI",
        "outputId": "4eb6527c-9907-4477-a227-c9924370720b"
      },
      "source": [
        "multiprocessing.cpu_count()"
      ],
      "execution_count": 2,
      "outputs": [
        {
          "output_type": "execute_result",
          "data": {
            "text/plain": [
              "2"
            ]
          },
          "metadata": {},
          "execution_count": 2
        }
      ]
    },
    {
      "cell_type": "markdown",
      "metadata": {
        "id": "bTvdO-s9Pfq0"
      },
      "source": [
        "##Identificadores\n",
        "El identifiador del proceso actual se accede por medio de current_process()"
      ]
    },
    {
      "cell_type": "code",
      "metadata": {
        "colab": {
          "base_uri": "https://localhost:8080/"
        },
        "id": "YMdTl3f-PihK",
        "outputId": "e9eaeb3e-c068-44de-db4f-288fcac33bb4"
      },
      "source": [
        "print(multiprocessing.current_process().pid)"
      ],
      "execution_count": 3,
      "outputs": [
        {
          "output_type": "stream",
          "name": "stdout",
          "text": [
            "156\n"
          ]
        }
      ]
    },
    {
      "cell_type": "code",
      "metadata": {
        "colab": {
          "base_uri": "https://localhost:8080/"
        },
        "id": "UikjCRDnPqk_",
        "outputId": "2c29269e-7809-4d60-a43b-b78021173a94"
      },
      "source": [
        "import time\n",
        "\n",
        "def TareaHijo():\n",
        "  print('Hijo con PID: {}'.format(multiprocessing.current_process().pid))\n",
        "  time.sleep(3)\n",
        "  print('Fin del proceso hijo')\n",
        "\n",
        "def main():\n",
        "  print('Padre con PID: {}'.format(multiprocessing.current_process().pid))\n",
        "  miproceso = multiprocessing.Process(target=TareaHijo)\n",
        "  miproceso.start()\n",
        "  miproceso.join()\n",
        "  print('Fin del proceso padre')\n",
        "\n",
        "main()"
      ],
      "execution_count": 5,
      "outputs": [
        {
          "output_type": "stream",
          "name": "stdout",
          "text": [
            "Padre con PID: 156\n",
            "Hijo con PID: 196\n",
            "Fin del proceso hijo\n",
            "Fin del proceso padre\n"
          ]
        }
      ]
    },
    {
      "cell_type": "markdown",
      "metadata": {
        "id": "UZn25-dJP85f"
      },
      "source": [
        "##Etiquetas \n",
        "\n",
        "Es posible asignar un nombre a un proceso hijo que ha sido creado, por medio del argumento name se asigna el nombre del proceso hijo."
      ]
    },
    {
      "cell_type": "code",
      "metadata": {
        "colab": {
          "base_uri": "https://localhost:8080/"
        },
        "id": "XCsMOnWrPysd",
        "outputId": "628b2203-c2e5-4bf6-a38c-edb907e824db"
      },
      "source": [
        "def myProccess():\n",
        "  print('Proceso con nombre: {}'.format(multiprocessing.current_process().name))\n",
        "\n",
        "def main():\n",
        "  Phijo = multiprocessing.Process(target= myproccess, name='Proceso_LCD')\n",
        "  Phijo.start()\n",
        "  Phijo.join()\n",
        "\n",
        "main()"
      ],
      "execution_count": 8,
      "outputs": [
        {
          "output_type": "stream",
          "name": "stdout",
          "text": [
            "Proceso con nombre: Proceso_LCD\n"
          ]
        }
      ]
    },
    {
      "cell_type": "markdown",
      "metadata": {
        "id": "xsn967kaQQKJ"
      },
      "source": [
        "##Ejercicio \n",
        "\n",
        "Crea tres procesos con nombre. Cada proceso debe escribir su nombre, su pid y el pid padre. "
      ]
    },
    {
      "cell_type": "code",
      "metadata": {
        "colab": {
          "base_uri": "https://localhost:8080/"
        },
        "id": "VJ-R0O3MQZNP",
        "outputId": "03ac78ac-c127-4bca-ef5f-c624f3a97841"
      },
      "source": [
        "import multiprocessing\n",
        "\n",
        "def myProcess(dad):\n",
        "  print('PROCESO')\n",
        "  print('Nombre: {}'.format(multiprocessing.current_process().name))\n",
        "  print('PID: {}'.format(multiprocessing.current_process().pid))\n",
        "  print('PID padre: {}'.format(dad))\n",
        "\n",
        "def main():\n",
        "  p1 = multiprocessing.Process(target= myProcess, name='Hijo1',args={multiprocessing.current_process().pid})\n",
        "  p2 = multiprocessing.Process(target= myProcess, name='Hijo2',args={multiprocessing.current_process().pid})\n",
        "  p3 = multiprocessing.Process(target= myProcess, name='Hijo3',args={multiprocessing.current_process().pid})\n",
        "  p1.start()\n",
        "  p2.start()\n",
        "  p3.start()\n",
        "  p1.join()\n",
        "  p2.join()\n",
        "  p3.join()\n",
        "\n",
        "main()"
      ],
      "execution_count": 28,
      "outputs": [
        {
          "output_type": "stream",
          "name": "stdout",
          "text": [
            "PROCESO\n",
            "Nombre: Hijo1\n",
            "PROCESO\n",
            "Nombre: Hijo2\n",
            "PID: 515\n",
            "PID padre: 156\n",
            "PROCESO\n",
            "PID: 512\n",
            "PID padre: 156\n",
            "Nombre: Hijo3\n",
            "PID: 516\n",
            "PID padre: 156\n"
          ]
        }
      ]
    },
    {
      "cell_type": "markdown",
      "metadata": {
        "id": "ccSos5dATFVG"
      },
      "source": [
        "##Terminar un proceso. \n",
        "Podemos cancelar o interrumpir un proceso usando terminate()\n"
      ]
    },
    {
      "cell_type": "code",
      "metadata": {
        "colab": {
          "base_uri": "https://localhost:8080/"
        },
        "id": "5ArmHR1ZTLng",
        "outputId": "d23a30ff-09eb-45b3-8892-1e40228a296d"
      },
      "source": [
        "def TareaProceso():\n",
        "  pnow = multiprocessing.current_process()\n",
        "  print('Proceso hijo: {}'.format(pnow.pid))\n",
        "  time.sleep(10)\n",
        "  pnow = multiprocessing.current_process()\n",
        "  print('Proceso padre pid: {}'.format(pnow.pid))\n",
        "\n",
        "myproccess = multiprocessing.Process(target=TareaProceso)\n",
        "myproccess.start()\n",
        "time.sleep(10)\n",
        "print('Proceso padre ha terminado, termina el proceso main')\n",
        "print('Proceso hijo terminado...')\n",
        "myproccess.terminate()\n",
        "print('Proceso hijo finaliza con exito')"
      ],
      "execution_count": 30,
      "outputs": [
        {
          "output_type": "stream",
          "name": "stdout",
          "text": [
            "Proceso hijo: 554\n",
            "Proceso padre ha terminado, termina el proceso main\n",
            "Proceso hijo terminado...\n",
            "Proceso hijo finaliza con exito\n"
          ]
        }
      ]
    },
    {
      "cell_type": "markdown",
      "metadata": {
        "id": "RLCcEQheTgnf"
      },
      "source": [
        "##Comunicación \n",
        "\n",
        "La forma de comunicación de procesos en python se lleva a cabo por medio de tuberías pipe y colas queue. Brindan opciones de transmisión de mensajes para facilitar la comunicación entre procesos: tuberías para conexiones entre dos procesos y colas para múltiples productores y consumidores.\n",
        "\n",
        "Veremos el uso de colas, especificamente la clase Queue del módulo multiprocessinf. Laimplementación de las clase Queue es segura para subprocesos y procesos\n",
        "\n",
        "Se prefiere el uso de una cola de mensajes para la comunicación entre procesos en lugar de compartir recursos ya que si ciertos procesos manejan mal la memoria y la corrompen habrá numerosos elementos indeseables y consecuencias impredecibles. Sin embargo, si un proceso no puede manejar su mensaje correctamente, otros elementos de la cola permaneceran intactos.\n",
        "\n",
        "Para manejar el objeto Queue necesitamos usar dos métodos principales:\n",
        "\n",
        "**get()** regresa el siguiente item de la cola\n",
        "\n",
        "**put()** agrega un item a la cola"
      ]
    },
    {
      "cell_type": "code",
      "metadata": {
        "colab": {
          "base_uri": "https://localhost:8080/"
        },
        "id": "VqcBcTIeTwI2",
        "outputId": "fb3b9a41-68a9-4247-a244-0616432863f6"
      },
      "source": [
        "from multiprocessing import Process, Queue\n",
        "\n",
        "def worker(num,q):\n",
        "  print('Se pone en la cola: ', num * num)\n",
        "  q.put(num * num)\n",
        "\n",
        "if __name__ == '__main__':\n",
        "  my_queue = Queue()\n",
        "  p = Process(target=worker, args=(5,my_queue))\n",
        "  p.start()\n",
        "  p.join()\n",
        "\n",
        "  print('Se lee de la cola: ', my_queue.get())"
      ],
      "execution_count": 32,
      "outputs": [
        {
          "output_type": "stream",
          "name": "stdout",
          "text": [
            "Se pone en la cola:  25\n",
            "Se lee de la cola:  25\n"
          ]
        }
      ]
    }
  ]
}