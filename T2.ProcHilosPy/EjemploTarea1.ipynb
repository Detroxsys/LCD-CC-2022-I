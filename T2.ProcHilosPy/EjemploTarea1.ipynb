{
  "nbformat": 4,
  "nbformat_minor": 0,
  "metadata": {
    "colab": {
      "name": "EjemploTarea1.ipynb",
      "provenance": []
    },
    "kernelspec": {
      "name": "python3",
      "display_name": "Python 3"
    },
    "language_info": {
      "name": "python"
    }
  },
  "cells": [
    {
      "cell_type": "code",
      "metadata": {
        "colab": {
          "base_uri": "https://localhost:8080/"
        },
        "id": "Eu8NJLnG-OR-",
        "outputId": "ec2a163e-3544-4231-f794-5d7b193f5a8f"
      },
      "source": [
        "import multiprocessing\n",
        "import os\n",
        "\n",
        "class MyProccess(multiprocessing.Process):\n",
        "  #Creamos un subproceso.\n",
        "  def __init__( self , name ) :\n",
        "    super(MyProccess,self).__init__()\n",
        "    self.name = name\n",
        "\n",
        "  #Creamos un atributo para imprimir el ide del proceso.  \n",
        "  def run(self):\n",
        "    print(\"Proceso: {}, tengo ID:  {}\".format(self.name, os.getpid()))\n",
        "\n",
        "\n",
        "if __name__ == '__main__':\n",
        "  print(\"Proceso padre con ID: {}\".format(os.getpid()))\n",
        "  hijo = MyProccess(\"hijo\")\n",
        "  hijo.start()\n",
        "  hijo.join()\n",
        "  print(\"Fin del proceso padre.\")"
      ],
      "execution_count": 8,
      "outputs": [
        {
          "output_type": "stream",
          "name": "stdout",
          "text": [
            "Proceso padre con ID: 65\n",
            "Proceso: hijo, tengo ID:  147\n",
            "Fin del proceso padre.\n"
          ]
        }
      ]
    }
  ]
}