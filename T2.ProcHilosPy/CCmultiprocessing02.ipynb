{
  "nbformat": 4,
  "nbformat_minor": 0,
  "metadata": {
    "colab": {
      "name": "CCmultiprocessing02.ipynb",
      "provenance": []
    },
    "kernelspec": {
      "name": "python3",
      "display_name": "Python 3"
    },
    "language_info": {
      "name": "python"
    }
  },
  "cells": [
    {
      "cell_type": "code",
      "metadata": {
        "id": "F3eHbfqgNTOK"
      },
      "source": [
        "import multiprocessing as mp\n",
        "import time\n",
        "import os\n",
        "from multiprocessing import Process"
      ],
      "execution_count": 1,
      "outputs": []
    },
    {
      "cell_type": "code",
      "metadata": {
        "colab": {
          "base_uri": "https://localhost:8080/"
        },
        "id": "c4z__ekjNcOt",
        "outputId": "1e3b793d-57f5-461d-e0e6-f53fbfdf92af"
      },
      "source": [
        "#Imprimiendo información sobre los procesos. (direcciones ID)\n",
        "print(\"modulo name:\", __name__)\n",
        "print(\"parent process: \", os.getppid())\n",
        "print(\"process id:\", os.getpid())"
      ],
      "execution_count": 2,
      "outputs": [
        {
          "output_type": "stream",
          "name": "stdout",
          "text": [
            "modulo name: __main__\n",
            "parent process:  55\n",
            "process id: 67\n"
          ]
        }
      ]
    },
    {
      "cell_type": "markdown",
      "metadata": {
        "id": "8L_vAuNkNpFb"
      },
      "source": [
        "##Más ejemplos"
      ]
    },
    {
      "cell_type": "code",
      "metadata": {
        "colab": {
          "base_uri": "https://localhost:8080/"
        },
        "id": "Qr1agdlLNrGM",
        "outputId": "4e58d424-31ac-487b-de61-45ae56206a7a"
      },
      "source": [
        "def info(titulo):\n",
        "  print(titulo)\n",
        "  print(\"module name:\", __name__)\n",
        "  print(\"parent process: \", os.getppid())\n",
        "  print(\"process id:\", os.getpid())\n",
        "\n",
        "def f(nombre):\n",
        "  info(\"Funcion f\")\n",
        "  print(\"Hola\", nombre)\n",
        "  print(\"-------\")\n",
        "\n",
        "info(\"Primera linea\")\n",
        "p1= Process(target=f, args=(\"Yeudiel\",))\n",
        "p1.start()\n",
        "p1.join()"
      ],
      "execution_count": 4,
      "outputs": [
        {
          "output_type": "stream",
          "name": "stdout",
          "text": [
            "Primera linea\n",
            "module name: __main__\n",
            "parent process:  55\n",
            "process id: 67\n",
            "Funcion f\n",
            "module name: __main__\n",
            "parent process:  67\n",
            "process id: 128\n",
            "Hola Yeudiel\n",
            "-------\n"
          ]
        }
      ]
    },
    {
      "cell_type": "markdown",
      "metadata": {
        "id": "wHb5RpO4N6UZ"
      },
      "source": [
        "##Visibilidad de las variables"
      ]
    },
    {
      "cell_type": "code",
      "metadata": {
        "colab": {
          "base_uri": "https://localhost:8080/"
        },
        "id": "a_neTgK-N8hm",
        "outputId": "1fd98829-9bca-4426-f4a0-7b59a883678c"
      },
      "source": [
        "import multiprocessing as mp\n",
        "import time\n",
        "\n",
        "nums_res = []\n",
        "\n",
        "def calc_cuad(numeros):\n",
        "    global nums_res\n",
        "    for n in numeros:\n",
        "        print('cuadrado:', n * n )\n",
        "        nums_res.append(n * n)\n",
        "        \n",
        "    #print(\"Resultado del proceso:\", nums_res)    \n",
        "\n",
        "    \n",
        "nums = range(10)\n",
        "\n",
        "t = time.time()\n",
        "p1 = mp.Process(target=calc_cuad, args=(nums,))\n",
        "\n",
        "p1.start()\n",
        "p1.join()\n",
        "\n",
        "print(\"Tiempo de ejecución: \", time.time()-t)\n",
        "print(\"Resultado del proceso:\", nums_res)    \n",
        "print(\"Finaliza ejecución\")"
      ],
      "execution_count": 5,
      "outputs": [
        {
          "output_type": "stream",
          "name": "stdout",
          "text": [
            "cuadrado: 0\n",
            "cuadrado: 1\n",
            "cuadrado: 4\n",
            "cuadrado: 9\n",
            "cuadrado: 16\n",
            "cuadrado: 25\n",
            "cuadrado: 36\n",
            "cuadrado: 49\n",
            "cuadrado: 64\n",
            "cuadrado: 81\n",
            "Tiempo de ejecución:  0.06173086166381836\n",
            "Resultado del proceso: []\n",
            "Finaliza ejecución\n"
          ]
        }
      ]
    }
  ]
}