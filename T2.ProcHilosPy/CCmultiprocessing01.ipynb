{
  "nbformat": 4,
  "nbformat_minor": 0,
  "metadata": {
    "colab": {
      "name": "CCmultiprocessing01.ipynb",
      "provenance": []
    },
    "kernelspec": {
      "name": "python3",
      "display_name": "Python 3"
    },
    "language_info": {
      "name": "python"
    }
  },
  "cells": [
    {
      "cell_type": "markdown",
      "metadata": {
        "id": "GN-s7_APvoMG"
      },
      "source": [
        "#Multiprocessing \n",
        "multiprocessing es un paquete que permite la creación de procesos y ofrece concurrencia local.\n",
        "\n",
        "Una manera sencilla de crear un proceso es por medio de la construcción de un objeto de tipo Process e invocarlo por medio del método start()."
      ]
    },
    {
      "cell_type": "code",
      "metadata": {
        "colab": {
          "base_uri": "https://localhost:8080/"
        },
        "id": "d6QS3DoIvkqa",
        "outputId": "2ace4874-b654-4095-bae6-74b97db38b8d"
      },
      "source": [
        "import multiprocessing as mp \n",
        "\n",
        "def tarea(name):\n",
        "    print(\"Hola\", name)\n",
        "\n",
        "if __name__ == '__main__':\n",
        "    p = mp.Process(target=tarea, args=('Yeudiel L.',))\n",
        "    p.start() # Invocamos el proceso\n",
        "    p.join() # Unimos al padre"
      ],
      "execution_count": 1,
      "outputs": [
        {
          "output_type": "stream",
          "name": "stdout",
          "text": [
            "Hola Yeudiel L.\n"
          ]
        }
      ]
    },
    {
      "cell_type": "markdown",
      "metadata": {
        "id": "rjSUKXiIwB3q"
      },
      "source": [
        "##Ejemplo 2"
      ]
    },
    {
      "cell_type": "code",
      "metadata": {
        "colab": {
          "base_uri": "https://localhost:8080/"
        },
        "id": "bAnPLUnywE1g",
        "outputId": "82ba3990-1e94-45e5-9332-2c5382e57312"
      },
      "source": [
        "import multiprocessing as mp \n",
        "import time\n",
        "\n",
        "def calc_cuad(numeros):\n",
        "    print(\"Calcula el cuadrado de los números\")\n",
        "    for n in numeros:\n",
        "        print(\"cuadrado:\", n * n)\n",
        "\n",
        "nums = range(10)\n",
        "t = time.time()\n",
        "p1 = mp.Process(target=calc_cuad, args=(nums,))\n",
        "p1.start()\n",
        "p1.join() \n",
        "\n",
        "print(\"Tiempo de ejecución: \", time.time() -t)\n",
        "print(\"Finaliza la ejecución\")"
      ],
      "execution_count": 2,
      "outputs": [
        {
          "output_type": "stream",
          "name": "stdout",
          "text": [
            "Calcula el cuadrado de los números\n",
            "cuadrado: 0\n",
            "cuadrado: 1\n",
            "cuadrado: 4\n",
            "cuadrado: 9\n",
            "cuadrado: 16\n",
            "cuadrado: 25\n",
            "cuadrado: 36\n",
            "cuadrado: 49\n",
            "cuadrado: 64\n",
            "cuadrado: 81\n",
            "Tiempo de ejecución:  0.06117510795593262\n",
            "Finaliza la ejecución\n"
          ]
        }
      ]
    },
    {
      "cell_type": "markdown",
      "metadata": {
        "id": "km_JUbo3xuXK"
      },
      "source": [
        "##Ejercicio 3\n",
        "Replicar con cubos. "
      ]
    },
    {
      "cell_type": "code",
      "metadata": {
        "colab": {
          "base_uri": "https://localhost:8080/"
        },
        "id": "KuXd6TwjyDGA",
        "outputId": "d37a1ece-0ed2-4cba-c46b-719c14294c43"
      },
      "source": [
        "import multiprocessing as mp \n",
        "import time\n",
        "\n",
        "def calc_cubes(numeros):\n",
        "    print(\"Calcula el cubo de los números\")\n",
        "    for n in numeros:\n",
        "        print(\"cubo:\", n*n*n)\n",
        "\n",
        "nums = range(10)\n",
        "t = time.time()\n",
        "p2 = mp.Process(target=calc_cubes,args=(nums,))\n",
        "p2.start()\n",
        "p2.join() \n",
        "\n",
        "print(\"Tiempo de ejecución: \", time.time() -t)\n",
        "print(\"Finaliza la ejecución\")"
      ],
      "execution_count": 3,
      "outputs": [
        {
          "output_type": "stream",
          "name": "stdout",
          "text": [
            "Calcula el cubo de los números\n",
            "cubo: 0\n",
            "cubo: 1\n",
            "cubo: 8\n",
            "cubo: 27\n",
            "cubo: 64\n",
            "cubo: 125\n",
            "cubo: 216\n",
            "cubo: 343\n",
            "cubo: 512\n",
            "cubo: 729\n",
            "Tiempo de ejecución:  0.052107810974121094\n",
            "Finaliza la ejecución\n"
          ]
        }
      ]
    },
    {
      "cell_type": "markdown",
      "metadata": {
        "id": "62Puf8pOyc3X"
      },
      "source": [
        "##Error en la forma de poner los joins al juntar dos procesos. \n",
        "\n",
        "Si usamos $start$ y $join$ de forma incorrecta terminaríamos teniendo un codigo secuencial. \n",
        "\n",
        "\n"
      ]
    },
    {
      "cell_type": "code",
      "metadata": {
        "colab": {
          "base_uri": "https://localhost:8080/"
        },
        "id": "kC0cvsZJyps6",
        "outputId": "3457cc48-6fde-4930-fc6e-697c3fb044ec"
      },
      "source": [
        "nums = range(10)\n",
        "t = time.time()\n",
        "p1 = mp.Process(target=calc_cuad, args=(nums,))\n",
        "p2 = mp.Process(target=calc_cubes,args=(nums,))\n",
        "p1.start()\n",
        "p1.join()\n",
        "p2.start()\n",
        "p2.join() \n",
        "\n",
        "print(\"Tiempo de ejecución: \", time.time() -t)\n",
        "print(\"Finaliza la ejecución\")"
      ],
      "execution_count": 4,
      "outputs": [
        {
          "output_type": "stream",
          "name": "stdout",
          "text": [
            "Calcula el cuadrado de los números\n",
            "cuadrado: 0\n",
            "cuadrado: 1\n",
            "cuadrado: 4\n",
            "cuadrado: 9\n",
            "cuadrado: 16\n",
            "cuadrado: 25\n",
            "cuadrado: 36\n",
            "cuadrado: 49\n",
            "cuadrado: 64\n",
            "cuadrado: 81\n",
            "Calcula el cubo de los números\n",
            "cubo: 0\n",
            "cubo: 1\n",
            "cubo: 8\n",
            "cubo: 27\n",
            "cubo: 64\n",
            "cubo: 125\n",
            "cubo: 216\n",
            "cubo: 343\n",
            "cubo: 512\n",
            "cubo: 729\n",
            "Tiempo de ejecución:  0.11611127853393555\n",
            "Finaliza la ejecución\n"
          ]
        }
      ]
    },
    {
      "cell_type": "markdown",
      "metadata": {
        "id": "-D59C1McKrzA"
      },
      "source": [
        "##Forma eficiente de poner los joins al juntar dos procesos. "
      ]
    },
    {
      "cell_type": "code",
      "metadata": {
        "colab": {
          "base_uri": "https://localhost:8080/"
        },
        "id": "3uIsSr1dKq56",
        "outputId": "1436ada2-a306-4e0f-f208-2416b9f0bfe0"
      },
      "source": [
        "nums = range(10)\n",
        "t = time.time()\n",
        "p1 = mp.Process(target=calc_cuad, args=(nums,))\n",
        "p2 = mp.Process(target=calc_cubes,args=(nums,))\n",
        "p1.start()\n",
        "p1.join()\n",
        "p2.start()\n",
        "p2.join() \n",
        "\n",
        "print(\"Tiempo de ejecución: \", time.time() -t)\n",
        "print(\"Finaliza la ejecución\")"
      ],
      "execution_count": 5,
      "outputs": [
        {
          "output_type": "stream",
          "name": "stdout",
          "text": [
            "Calcula el cuadrado de los números\n",
            "cuadrado: 0\n",
            "cuadrado: 1\n",
            "cuadrado: 4\n",
            "cuadrado: 9\n",
            "cuadrado: 16\n",
            "cuadrado: 25\n",
            "cuadrado: 36\n",
            "cuadrado: 49\n",
            "cuadrado: 64\n",
            "cuadrado: 81\n",
            "Calcula el cubo de los números\n",
            "cubo: 0\n",
            "cubo: 1\n",
            "cubo: 8\n",
            "cubo: 27\n",
            "cubo: 64\n",
            "cubo: 125\n",
            "cubo: 216\n",
            "cubo: 343\n",
            "cubo: 512\n",
            "cubo: 729\n",
            "Tiempo de ejecución:  0.1289525032043457\n",
            "Finaliza la ejecución\n"
          ]
        }
      ]
    },
    {
      "cell_type": "markdown",
      "metadata": {
        "id": "nvWR4sO9yx9d"
      },
      "source": [
        "##Ejercicio 4\n",
        "Calcula el cuadrado y el cubo de un arreglo de tamaño $100$ de manera \n",
        "\n",
        "*   Obten el cuadrado y el cubo de un arreglo de tamaño $100$ de manera secuencial con funciones y calcula su tiempo de ejecución con time.time().\n",
        "*   Obten el cuadrado y el cubo usando procesos y calcula el tiempo de ejecución.\n",
        "*   Obten el cuadrado y el cubo usando procesos y varia el start y join de los procesos, calcula el tiempo de ejecución."
      ]
    },
    {
      "cell_type": "code",
      "metadata": {
        "colab": {
          "base_uri": "https://localhost:8080/"
        },
        "id": "PfvlCjljLe6t",
        "outputId": "bd2b34c1-8df1-4584-a28d-10c6b1186ee8"
      },
      "source": [
        "#De manera secuencial \n",
        "import multiprocessing as mp\n",
        "import time\n",
        "\n",
        "def calc_cuad(numeros):\n",
        "    num_cuads =[]\n",
        "    print('Calcula el cuadrado de los numeros')\n",
        "    for idx,n in enumerate(numeros):\n",
        "        num_cuads.append(n*n)\n",
        "    return num_cuads\n",
        "\n",
        "def calc_cubes(numeros):\n",
        "    num_cubs =[]\n",
        "    print('Calcula el cubo de los numeros')\n",
        "    for idx,n in enumerate(numeros):\n",
        "        num_cubs.append(n*n*n)\n",
        "    return num_cubs\n",
        "\n",
        "\n",
        "t=time.time()\n",
        "nums=range(100)\n",
        "cuadrados = calc_cuad(nums)\n",
        "cubos     = calc_cubes(nums)\n",
        "print(f\"Los cuadrados son:{cuadrados}\")\n",
        "print(f\"Los cubos son:{cubos}\")\n",
        "print(\"Tiempo de ejecución: \", time.time() -t)\n",
        "print(\"Finaliza la ejecución\")\n"
      ],
      "execution_count": 6,
      "outputs": [
        {
          "output_type": "stream",
          "name": "stdout",
          "text": [
            "Calcula el cuadrado de los numeros\n",
            "Calcula el cubo de los numeros\n",
            "Los cuadrados son:[0, 1, 4, 9, 16, 25, 36, 49, 64, 81, 100, 121, 144, 169, 196, 225, 256, 289, 324, 361, 400, 441, 484, 529, 576, 625, 676, 729, 784, 841, 900, 961, 1024, 1089, 1156, 1225, 1296, 1369, 1444, 1521, 1600, 1681, 1764, 1849, 1936, 2025, 2116, 2209, 2304, 2401, 2500, 2601, 2704, 2809, 2916, 3025, 3136, 3249, 3364, 3481, 3600, 3721, 3844, 3969, 4096, 4225, 4356, 4489, 4624, 4761, 4900, 5041, 5184, 5329, 5476, 5625, 5776, 5929, 6084, 6241, 6400, 6561, 6724, 6889, 7056, 7225, 7396, 7569, 7744, 7921, 8100, 8281, 8464, 8649, 8836, 9025, 9216, 9409, 9604, 9801]\n",
            "Los cubos son:[0, 1, 8, 27, 64, 125, 216, 343, 512, 729, 1000, 1331, 1728, 2197, 2744, 3375, 4096, 4913, 5832, 6859, 8000, 9261, 10648, 12167, 13824, 15625, 17576, 19683, 21952, 24389, 27000, 29791, 32768, 35937, 39304, 42875, 46656, 50653, 54872, 59319, 64000, 68921, 74088, 79507, 85184, 91125, 97336, 103823, 110592, 117649, 125000, 132651, 140608, 148877, 157464, 166375, 175616, 185193, 195112, 205379, 216000, 226981, 238328, 250047, 262144, 274625, 287496, 300763, 314432, 328509, 343000, 357911, 373248, 389017, 405224, 421875, 438976, 456533, 474552, 493039, 512000, 531441, 551368, 571787, 592704, 614125, 636056, 658503, 681472, 704969, 729000, 753571, 778688, 804357, 830584, 857375, 884736, 912673, 941192, 970299]\n",
            "Tiempo de ejecución:  0.0016472339630126953\n",
            "Finaliza la ejecución\n"
          ]
        }
      ]
    },
    {
      "cell_type": "code",
      "metadata": {
        "colab": {
          "base_uri": "https://localhost:8080/"
        },
        "id": "WIN5kRggMr8a",
        "outputId": "0ba41e64-a244-447a-a762-52cdb150881e"
      },
      "source": [
        "#Usando procesos forma eficiente. \n",
        "t = time.time()\n",
        "p1 = mp.Process(target=calc_cuad, args=(nums,))\n",
        "p2 = mp.Process(target=calc_cubes,args=(nums,))\n",
        "p1.start()\n",
        "p1.join()\n",
        "p2.start()\n",
        "p2.join() \n",
        "\n",
        "print(\"Tiempo de ejecución: \", time.time() -t)\n",
        "print(\"Finaliza la ejecución\")"
      ],
      "execution_count": 7,
      "outputs": [
        {
          "output_type": "stream",
          "name": "stdout",
          "text": [
            "Calcula el cuadrado de los numeros\n",
            "Calcula el cubo de los numeros\n",
            "Tiempo de ejecución:  0.03895974159240723\n",
            "Finaliza la ejecución\n"
          ]
        }
      ]
    },
    {
      "cell_type": "code",
      "metadata": {
        "colab": {
          "base_uri": "https://localhost:8080/"
        },
        "id": "kTadHKtXM9Eg",
        "outputId": "0f1b54c9-6053-47f5-c428-bb126c987750"
      },
      "source": [
        "#Usando procesos forma deficiente.\n",
        "t = time.time()\n",
        "p1 = mp.Process(target=calc_cuad, args=(nums,))\n",
        "p2 = mp.Process(target=calc_cubes,args=(nums,))\n",
        "p1.start()\n",
        "p2.start()\n",
        "p1.join()\n",
        "p2.join() \n",
        "\n",
        "print(\"Tiempo de ejecución: \", time.time() -t)\n",
        "print(\"Finaliza la ejecución\")"
      ],
      "execution_count": 8,
      "outputs": [
        {
          "output_type": "stream",
          "name": "stdout",
          "text": [
            "Calcula el cuadrado de los numeros\n",
            "Calcula el cubo de los numeros\n",
            "Tiempo de ejecución:  0.02895188331604004\n",
            "Finaliza la ejecución\n"
          ]
        }
      ]
    }
  ]
}