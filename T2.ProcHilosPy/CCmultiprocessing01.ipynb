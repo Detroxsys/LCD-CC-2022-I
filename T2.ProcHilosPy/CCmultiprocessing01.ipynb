{
  "nbformat": 4,
  "nbformat_minor": 0,
  "metadata": {
    "colab": {
      "name": "CCmultiprocessing01.ipynb",
      "provenance": []
    },
    "kernelspec": {
      "name": "python3",
      "display_name": "Python 3"
    },
    "language_info": {
      "name": "python"
    }
  },
  "cells": [
    {
      "cell_type": "markdown",
      "metadata": {
        "id": "GN-s7_APvoMG"
      },
      "source": [
        "#Multiprocessing \n",
        "multiprocessing es un paquete que permite la creación de procesos y ofrece concurrencia local.\n",
        "\n",
        "Una manera sencilla de crear un proceso es por medio de la construcción de un objeto de tipo Process e invocarlo por medio del método start()."
      ]
    },
    {
      "cell_type": "code",
      "metadata": {
        "colab": {
          "base_uri": "https://localhost:8080/"
        },
        "id": "d6QS3DoIvkqa",
        "outputId": "d21e6350-897a-4363-9c1c-f8d02b72007f"
      },
      "source": [
        "import multiprocessing as mp \n",
        "\n",
        "def tarea(name):\n",
        "    print(\"Hola\", name)\n",
        "\n",
        "if __name__ == '__main__':\n",
        "    p = mp.Process(target=tarea, args=('Yeudiel L.',))\n",
        "    p.start() # Invocamos el proceso\n",
        "    p.join() # Unimos al padre"
      ],
      "execution_count": 1,
      "outputs": [
        {
          "output_type": "stream",
          "name": "stdout",
          "text": [
            "Hola Yeudiel L.\n"
          ]
        }
      ]
    },
    {
      "cell_type": "markdown",
      "metadata": {
        "id": "rjSUKXiIwB3q"
      },
      "source": [
        "##Ejemplo 2"
      ]
    },
    {
      "cell_type": "code",
      "metadata": {
        "colab": {
          "base_uri": "https://localhost:8080/"
        },
        "id": "bAnPLUnywE1g",
        "outputId": "c36a5335-2f73-4997-de83-1a542d3bb6b9"
      },
      "source": [
        "import multiprocessing as mp \n",
        "import time\n",
        "\n",
        "def calc_cuad(numeros):\n",
        "    print(\"Calcula el cuadrado de los números\")\n",
        "    for n in numeros:\n",
        "        print(\"cuadrado:\", n * n)\n",
        "\n",
        "nums = range(10)\n",
        "t = time.time()\n",
        "p1 = mp.Process(target=calc_cuad, args=(nums,))\n",
        "p1.start()\n",
        "p1.join() \n",
        "\n",
        "print(\"Tiempo de ejecución: \", time.time() -t)\n",
        "print(\"Finaliza la ejecución\")"
      ],
      "execution_count": 2,
      "outputs": [
        {
          "output_type": "stream",
          "name": "stdout",
          "text": [
            "cuadrado: 0\n",
            "cuadrado: 1\n",
            "cuadrado: 4\n",
            "cuadrado: 9\n",
            "cuadrado: 16\n",
            "cuadrado: 25\n",
            "cuadrado: 36\n",
            "cuadrado: 49\n",
            "cuadrado: 64\n",
            "cuadrado: 81\n",
            "Tiempo de ejecución:  0.04527115821838379\n",
            "Resultado del proceso: []\n",
            "Finaliza ejecución\n"
          ]
        }
      ]
    },
    {
      "cell_type": "markdown",
      "metadata": {
        "id": "km_JUbo3xuXK"
      },
      "source": [
        "##Ejercicio 3\n",
        "Replicar con cubos. "
      ]
    },
    {
      "cell_type": "code",
      "metadata": {
        "colab": {
          "base_uri": "https://localhost:8080/"
        },
        "id": "KuXd6TwjyDGA",
        "outputId": "b904ef3c-40f7-4dd7-f75c-6676c598b3c9"
      },
      "source": [
        "import multiprocessing as mp \n",
        "import time\n",
        "\n",
        "def calc_cubes(numeros):\n",
        "    print(\"Calcula el cubo de los números\")\n",
        "    for n in numeros:\n",
        "        print(\"cubo:\", n*n*n)\n",
        "\n",
        "nums = range(10)\n",
        "t = time.time()\n",
        "p1 = mp.Process(target=calc_cuad, args=(nums,))\n",
        "p2 = mp.Process(target=calc_cubes,args=(nums,))\n",
        "p1.start()\n",
        "p2.start()\n",
        "p1.join()\n",
        "p2.join() \n",
        "\n",
        "print(\"Tiempo de ejecución: \", time.time() -t)\n",
        "print(\"Finaliza la ejecución\")"
      ],
      "execution_count": 3,
      "outputs": [
        {
          "output_type": "stream",
          "name": "stdout",
          "text": [
            "cuadrado: 0\n",
            "Calcula el cubo de los números\n",
            "cubo: 0\n",
            "cubo: 1\n",
            "cubo: 8\n",
            "cubo: 27\n",
            "cubo: 64\n",
            "cuadrado: 1\n",
            "cubo: 125\n",
            "cuadrado: 4\n",
            "cuadrado: 9\n",
            "cubo: 216\n",
            "cuadrado: 16\n",
            "cuadrado: 25\n",
            "cuadrado: 36\n",
            "cuadrado: 49\n",
            "cubo: 343\n",
            "cubo: 512\n",
            "cubo: 729\n",
            "cuadrado: 64\n",
            "cuadrado: 81\n",
            "Tiempo de ejecución:  0.08774328231811523\n",
            "Finaliza la ejecución\n"
          ]
        }
      ]
    },
    {
      "cell_type": "markdown",
      "metadata": {
        "id": "62Puf8pOyc3X"
      },
      "source": [
        "##Error en la forma de poner los joins.\n",
        "\n",
        "Si usamos $start$ y $join$ de forma incorrecta terminaríamos teniendo un codigo secuencial. \n",
        "\n",
        "\n"
      ]
    },
    {
      "cell_type": "code",
      "metadata": {
        "colab": {
          "base_uri": "https://localhost:8080/"
        },
        "id": "kC0cvsZJyps6",
        "outputId": "08f37ba5-4088-43c7-eb89-70aff687385d"
      },
      "source": [
        "nums = range(10)\n",
        "t = time.time()\n",
        "p1 = mp.Process(target=calc_cuad, args=(nums,))\n",
        "p2 = mp.Process(target=calc_cubes,args=(nums,))\n",
        "p1.start()\n",
        "p1.join()\n",
        "p2.start()\n",
        "p2.join() \n",
        "\n",
        "print(\"Tiempo de ejecución: \", time.time() -t)\n",
        "print(\"Finaliza la ejecución\")"
      ],
      "execution_count": 4,
      "outputs": [
        {
          "output_type": "stream",
          "name": "stdout",
          "text": [
            "cuadrado: 0\n",
            "cuadrado: 1\n",
            "cuadrado: 4\n",
            "cuadrado: 9\n",
            "cuadrado: 16\n",
            "cuadrado: 25\n",
            "cuadrado: 36\n",
            "cuadrado: 49\n",
            "cuadrado: 64\n",
            "cuadrado: 81\n",
            "Calcula el cubo de los números\n",
            "cubo: 0\n",
            "cubo: 1\n",
            "cubo: 8\n",
            "cubo: 27\n",
            "cubo: 64\n",
            "cubo: 125\n",
            "cubo: 216\n",
            "cubo: 343\n",
            "cubo: 512\n",
            "cubo: 729\n",
            "Tiempo de ejecución:  0.10773944854736328\n",
            "Finaliza la ejecución\n"
          ]
        }
      ]
    },
    {
      "cell_type": "markdown",
      "metadata": {
        "id": "nvWR4sO9yx9d"
      },
      "source": [
        "##Ejercicio 4\n",
        "Calcula el cuadrado y el cubo de un arreglo de tamaño $100$ de manera \n",
        "\n",
        "*   Obten el cuadrado y el cubo de un arreglo de tamaño $100$ de manera secuencial con funciones y calcula su tiempo de ejecución con time.time().\n",
        "*   Obten el cuadrado y el cubo usando procesos y calcula el tiempo de ejecución.\n",
        "*   Obten el cuadrado y el cubo usando procesos y varia el start y join de los procesos, calcula el tiempo de ejecución."
      ]
    },
    {
      "cell_type": "code",
      "metadata": {
        "id": "sEy7QwPlzHG5"
      },
      "source": [
        "#Utilizamos las funciones definidas previamente solo que realizamos lo que nos pide. \n",
        "\n"
      ],
      "execution_count": null,
      "outputs": []
    }
  ]
}